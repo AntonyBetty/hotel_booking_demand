{
 "cells": [
  {
   "cell_type": "markdown",
   "metadata": {
    "collapsed": true,
    "pycharm": {
     "name": "#%% md\n"
    }
   },
   "source": [
    "# 1. 项目介绍\n",
    "\n",
    "- 项目数据集来自 Kaggle 网站公开的 Hotel booking demand 项目。\n",
    "- 该数据集包含了一家城市酒店和一家度假酒店的预订信息，包括预订时间、入住时间、成人、儿童和/或婴儿数量、可用停车位数量等信息。\n",
    "- 数据集已进行个人信息脱敏，容量约为12万×32。\n",
    "\n",
    "---\n",
    "- 本项目主要包含以下内容：\n",
    "    - 完成对数据集的**数据预处理**；\n",
    "    - 利用数据集对酒店运营状况/市场情况/客户画像进行**数据分析**；\n",
    "    - 根据数据集建立**机器学习模型**，预测客户是否会取消预定。"
   ]
  },
  {
   "cell_type": "markdown",
   "source": [
    "# 2. 数据导入"
   ],
   "metadata": {
    "collapsed": false,
    "pycharm": {
     "name": "#%% md\n"
    }
   }
  },
  {
   "cell_type": "code",
   "execution_count": 1,
   "outputs": [],
   "source": [
    "# 导入库文件\n",
    "import pandas as pd\n",
    "import numpy as np\n",
    "from matplotlib import pyplot as plt\n",
    "import seaborn as sns\n",
    "import warnings\n",
    "warnings.filterwarnings('ignore')\n",
    "# 机器学习库\n",
    "from sklearn.model_selection import GridSearchCV\n",
    "from sklearn.svm import LinearSVC\n",
    "from sklearn.naive_bayes import GaussianNB\n",
    "from sklearn.ensemble import RandomForestClassifier\n",
    "from sklearn.neighbors import KNeighborsClassifier\n",
    "from sklearn.tree import DecisionTreeClassifier\n",
    "from sklearn.linear_model import LogisticRegression, SGDClassifier, RidgeClassifier, Perceptron\n",
    "from sklearn.model_selection import cross_validate, KFold\n",
    "from sklearn.preprocessing import LabelEncoder\n",
    "from sklearn.preprocessing import StandardScaler"
   ],
   "metadata": {
    "collapsed": false,
    "pycharm": {
     "name": "#%%\n"
    }
   }
  },
  {
   "cell_type": "code",
   "execution_count": 2,
   "outputs": [
    {
     "name": "stdout",
     "output_type": "stream",
     "text": [
      "<class 'pandas.core.frame.DataFrame'>\n",
      "RangeIndex: 119390 entries, 0 to 119389\n",
      "Data columns (total 32 columns):\n",
      " #   Column                          Non-Null Count   Dtype  \n",
      "---  ------                          --------------   -----  \n",
      " 0   hotel                           119390 non-null  object \n",
      " 1   is_canceled                     119390 non-null  int64  \n",
      " 2   lead_time                       119390 non-null  int64  \n",
      " 3   arrival_date_year               119390 non-null  int64  \n",
      " 4   arrival_date_month              119390 non-null  object \n",
      " 5   arrival_date_week_number        119390 non-null  int64  \n",
      " 6   arrival_date_day_of_month       119390 non-null  int64  \n",
      " 7   stays_in_weekend_nights         119390 non-null  int64  \n",
      " 8   stays_in_week_nights            119390 non-null  int64  \n",
      " 9   adults                          119390 non-null  int64  \n",
      " 10  children                        119386 non-null  float64\n",
      " 11  babies                          119390 non-null  int64  \n",
      " 12  meal                            119390 non-null  object \n",
      " 13  country                         118902 non-null  object \n",
      " 14  market_segment                  119390 non-null  object \n",
      " 15  distribution_channel            119390 non-null  object \n",
      " 16  is_repeated_guest               119390 non-null  int64  \n",
      " 17  previous_cancellations          119390 non-null  int64  \n",
      " 18  previous_bookings_not_canceled  119390 non-null  int64  \n",
      " 19  reserved_room_type              119390 non-null  object \n",
      " 20  assigned_room_type              119390 non-null  object \n",
      " 21  booking_changes                 119390 non-null  int64  \n",
      " 22  deposit_type                    119390 non-null  object \n",
      " 23  agent                           103050 non-null  float64\n",
      " 24  company                         6797 non-null    float64\n",
      " 25  days_in_waiting_list            119390 non-null  int64  \n",
      " 26  customer_type                   119390 non-null  object \n",
      " 27  adr                             119390 non-null  float64\n",
      " 28  required_car_parking_spaces     119390 non-null  int64  \n",
      " 29  total_of_special_requests       119390 non-null  int64  \n",
      " 30  reservation_status              119390 non-null  object \n",
      " 31  reservation_status_date         119390 non-null  object \n",
      "dtypes: float64(4), int64(16), object(12)\n",
      "memory usage: 29.1+ MB\n"
     ]
    }
   ],
   "source": [
    "data_origin = pd.read_csv('./hotel_bookings.csv')\n",
    "data_origin.info()"
   ],
   "metadata": {
    "collapsed": false,
    "pycharm": {
     "name": "#%%\n"
    }
   }
  },
  {
   "cell_type": "code",
   "execution_count": 3,
   "outputs": [
    {
     "name": "stdout",
     "output_type": "stream",
     "text": [
      "列名:  hotel\n",
      "-------------------------\n",
      "类型:  object\n",
      "-------------------------\n",
      "City Hotel      79330\n",
      "Resort Hotel    40060\n",
      "Name: hotel, dtype: int64\n",
      "-------------------------\n",
      "\n",
      "\n",
      "\n",
      "列名:  is_canceled\n",
      "-------------------------\n",
      "类型:  int64\n",
      "-------------------------\n",
      "0    75166\n",
      "1    44224\n",
      "Name: is_canceled, dtype: int64\n",
      "-------------------------\n",
      "\n",
      "\n",
      "\n",
      "列名:  lead_time\n",
      "-------------------------\n",
      "类型:  int64\n",
      "-------------------------\n",
      "0      6345\n",
      "1      3460\n",
      "2      2069\n",
      "3      1816\n",
      "4      1715\n",
      "       ... \n",
      "400       1\n",
      "370       1\n",
      "532       1\n",
      "371       1\n",
      "463       1\n",
      "Name: lead_time, Length: 479, dtype: int64\n",
      "-------------------------\n",
      "\n",
      "\n",
      "\n",
      "列名:  arrival_date_year\n",
      "-------------------------\n",
      "类型:  int64\n",
      "-------------------------\n",
      "2016    56707\n",
      "2017    40687\n",
      "2015    21996\n",
      "Name: arrival_date_year, dtype: int64\n",
      "-------------------------\n",
      "\n",
      "\n",
      "\n",
      "列名:  arrival_date_month\n",
      "-------------------------\n",
      "类型:  object\n",
      "-------------------------\n",
      "August       13877\n",
      "July         12661\n",
      "May          11791\n",
      "October      11160\n",
      "April        11089\n",
      "June         10939\n",
      "September    10508\n",
      "March         9794\n",
      "February      8068\n",
      "November      6794\n",
      "December      6780\n",
      "January       5929\n",
      "Name: arrival_date_month, dtype: int64\n",
      "-------------------------\n",
      "\n",
      "\n",
      "\n",
      "列名:  arrival_date_week_number\n",
      "-------------------------\n",
      "类型:  int64\n",
      "-------------------------\n",
      "33    3580\n",
      "30    3087\n",
      "32    3045\n",
      "34    3040\n",
      "18    2926\n",
      "21    2854\n",
      "28    2853\n",
      "17    2805\n",
      "20    2785\n",
      "29    2763\n",
      "42    2756\n",
      "31    2741\n",
      "41    2699\n",
      "15    2689\n",
      "27    2664\n",
      "25    2663\n",
      "38    2661\n",
      "23    2621\n",
      "35    2593\n",
      "39    2581\n",
      "22    2546\n",
      "24    2498\n",
      "13    2416\n",
      "16    2405\n",
      "19    2402\n",
      "40    2397\n",
      "26    2391\n",
      "43    2352\n",
      "44    2272\n",
      "14    2264\n",
      "37    2229\n",
      "8     2216\n",
      "36    2167\n",
      "10    2149\n",
      "9     2117\n",
      "7     2109\n",
      "12    2083\n",
      "11    2070\n",
      "45    1941\n",
      "53    1816\n",
      "49    1782\n",
      "47    1685\n",
      "46    1574\n",
      "6     1508\n",
      "50    1505\n",
      "48    1504\n",
      "4     1487\n",
      "5     1387\n",
      "3     1319\n",
      "2     1218\n",
      "52    1195\n",
      "1     1047\n",
      "51     933\n",
      "Name: arrival_date_week_number, dtype: int64\n",
      "-------------------------\n",
      "\n",
      "\n",
      "\n",
      "列名:  arrival_date_day_of_month\n",
      "-------------------------\n",
      "类型:  int64\n",
      "-------------------------\n",
      "17    4406\n",
      "5     4317\n",
      "15    4196\n",
      "25    4160\n",
      "26    4147\n",
      "9     4096\n",
      "12    4087\n",
      "16    4078\n",
      "2     4055\n",
      "19    4052\n",
      "20    4032\n",
      "18    4002\n",
      "24    3993\n",
      "28    3946\n",
      "8     3921\n",
      "3     3855\n",
      "30    3853\n",
      "6     3833\n",
      "14    3819\n",
      "27    3802\n",
      "21    3767\n",
      "4     3763\n",
      "13    3745\n",
      "7     3665\n",
      "1     3626\n",
      "23    3616\n",
      "11    3599\n",
      "22    3596\n",
      "29    3580\n",
      "10    3575\n",
      "31    2208\n",
      "Name: arrival_date_day_of_month, dtype: int64\n",
      "-------------------------\n",
      "\n",
      "\n",
      "\n",
      "列名:  stays_in_weekend_nights\n",
      "-------------------------\n",
      "类型:  int64\n",
      "-------------------------\n",
      "0     51998\n",
      "2     33308\n",
      "1     30626\n",
      "4      1855\n",
      "3      1259\n",
      "6       153\n",
      "5        79\n",
      "8        60\n",
      "7        19\n",
      "9        11\n",
      "10        7\n",
      "12        5\n",
      "13        3\n",
      "16        3\n",
      "14        2\n",
      "18        1\n",
      "19        1\n",
      "Name: stays_in_weekend_nights, dtype: int64\n",
      "-------------------------\n",
      "\n",
      "\n",
      "\n",
      "列名:  stays_in_week_nights\n",
      "-------------------------\n",
      "类型:  int64\n",
      "-------------------------\n",
      "2     33684\n",
      "1     30310\n",
      "3     22258\n",
      "5     11077\n",
      "4      9563\n",
      "0      7645\n",
      "6      1499\n",
      "10     1036\n",
      "7      1029\n",
      "8       656\n",
      "9       231\n",
      "15       85\n",
      "11       56\n",
      "19       44\n",
      "12       42\n",
      "20       41\n",
      "14       35\n",
      "13       27\n",
      "16       16\n",
      "21       15\n",
      "22        7\n",
      "25        6\n",
      "18        6\n",
      "30        5\n",
      "17        4\n",
      "24        3\n",
      "40        2\n",
      "33        1\n",
      "42        1\n",
      "50        1\n",
      "32        1\n",
      "26        1\n",
      "34        1\n",
      "35        1\n",
      "41        1\n",
      "Name: stays_in_week_nights, dtype: int64\n",
      "-------------------------\n",
      "\n",
      "\n",
      "\n",
      "列名:  adults\n",
      "-------------------------\n",
      "类型:  int64\n",
      "-------------------------\n",
      "2     89680\n",
      "1     23027\n",
      "3      6202\n",
      "0       403\n",
      "4        62\n",
      "26        5\n",
      "27        2\n",
      "20        2\n",
      "5         2\n",
      "40        1\n",
      "50        1\n",
      "55        1\n",
      "6         1\n",
      "10        1\n",
      "Name: adults, dtype: int64\n",
      "-------------------------\n",
      "\n",
      "\n",
      "\n",
      "列名:  children\n",
      "-------------------------\n",
      "类型:  float64\n",
      "-------------------------\n",
      "0.0     110796\n",
      "1.0       4861\n",
      "2.0       3652\n",
      "3.0         76\n",
      "10.0         1\n",
      "Name: children, dtype: int64\n",
      "-------------------------\n",
      "\n",
      "\n",
      "\n",
      "列名:  babies\n",
      "-------------------------\n",
      "类型:  int64\n",
      "-------------------------\n",
      "0     118473\n",
      "1        900\n",
      "2         15\n",
      "10         1\n",
      "9          1\n",
      "Name: babies, dtype: int64\n",
      "-------------------------\n",
      "\n",
      "\n",
      "\n",
      "列名:  meal\n",
      "-------------------------\n",
      "类型:  object\n",
      "-------------------------\n",
      "BB           92310\n",
      "HB           14463\n",
      "SC           10650\n",
      "Undefined     1169\n",
      "FB             798\n",
      "Name: meal, dtype: int64\n",
      "-------------------------\n",
      "\n",
      "\n",
      "\n",
      "列名:  country\n",
      "-------------------------\n",
      "类型:  object\n",
      "-------------------------\n",
      "PRT    48590\n",
      "GBR    12129\n",
      "FRA    10415\n",
      "ESP     8568\n",
      "DEU     7287\n",
      "       ...  \n",
      "AIA        1\n",
      "NCL        1\n",
      "SDN        1\n",
      "KIR        1\n",
      "NAM        1\n",
      "Name: country, Length: 177, dtype: int64\n",
      "-------------------------\n",
      "\n",
      "\n",
      "\n",
      "列名:  market_segment\n",
      "-------------------------\n",
      "类型:  object\n",
      "-------------------------\n",
      "Online TA        56477\n",
      "Offline TA/TO    24219\n",
      "Groups           19811\n",
      "Direct           12606\n",
      "Corporate         5295\n",
      "Complementary      743\n",
      "Aviation           237\n",
      "Undefined            2\n",
      "Name: market_segment, dtype: int64\n",
      "-------------------------\n",
      "\n",
      "\n",
      "\n",
      "列名:  distribution_channel\n",
      "-------------------------\n",
      "类型:  object\n",
      "-------------------------\n",
      "TA/TO        97870\n",
      "Direct       14645\n",
      "Corporate     6677\n",
      "GDS            193\n",
      "Undefined        5\n",
      "Name: distribution_channel, dtype: int64\n",
      "-------------------------\n",
      "\n",
      "\n",
      "\n",
      "列名:  is_repeated_guest\n",
      "-------------------------\n",
      "类型:  int64\n",
      "-------------------------\n",
      "0    115580\n",
      "1      3810\n",
      "Name: is_repeated_guest, dtype: int64\n",
      "-------------------------\n",
      "\n",
      "\n",
      "\n",
      "列名:  previous_cancellations\n",
      "-------------------------\n",
      "类型:  int64\n",
      "-------------------------\n",
      "0     112906\n",
      "1       6051\n",
      "2        116\n",
      "3         65\n",
      "24        48\n",
      "11        35\n",
      "4         31\n",
      "26        26\n",
      "25        25\n",
      "6         22\n",
      "19        19\n",
      "5         19\n",
      "14        14\n",
      "13        12\n",
      "21         1\n",
      "Name: previous_cancellations, dtype: int64\n",
      "-------------------------\n",
      "\n",
      "\n",
      "\n",
      "列名:  previous_bookings_not_canceled\n",
      "-------------------------\n",
      "类型:  int64\n",
      "-------------------------\n",
      "0     115770\n",
      "1       1542\n",
      "2        580\n",
      "3        333\n",
      "4        229\n",
      "       ...  \n",
      "69         1\n",
      "70         1\n",
      "71         1\n",
      "54         1\n",
      "72         1\n",
      "Name: previous_bookings_not_canceled, Length: 73, dtype: int64\n",
      "-------------------------\n",
      "\n",
      "\n",
      "\n",
      "列名:  reserved_room_type\n",
      "-------------------------\n",
      "类型:  object\n",
      "-------------------------\n",
      "A    85994\n",
      "D    19201\n",
      "E     6535\n",
      "F     2897\n",
      "G     2094\n",
      "B     1118\n",
      "C      932\n",
      "H      601\n",
      "P       12\n",
      "L        6\n",
      "Name: reserved_room_type, dtype: int64\n",
      "-------------------------\n",
      "\n",
      "\n",
      "\n",
      "列名:  assigned_room_type\n",
      "-------------------------\n",
      "类型:  object\n",
      "-------------------------\n",
      "A    74053\n",
      "D    25322\n",
      "E     7806\n",
      "F     3751\n",
      "G     2553\n",
      "C     2375\n",
      "B     2163\n",
      "H      712\n",
      "I      363\n",
      "K      279\n",
      "P       12\n",
      "L        1\n",
      "Name: assigned_room_type, dtype: int64\n",
      "-------------------------\n",
      "\n",
      "\n",
      "\n",
      "列名:  booking_changes\n",
      "-------------------------\n",
      "类型:  int64\n",
      "-------------------------\n",
      "0     101314\n",
      "1      12701\n",
      "2       3805\n",
      "3        927\n",
      "4        376\n",
      "5        118\n",
      "6         63\n",
      "7         31\n",
      "8         17\n",
      "9          8\n",
      "10         6\n",
      "13         5\n",
      "14         5\n",
      "15         3\n",
      "16         2\n",
      "17         2\n",
      "12         2\n",
      "11         2\n",
      "20         1\n",
      "21         1\n",
      "18         1\n",
      "Name: booking_changes, dtype: int64\n",
      "-------------------------\n",
      "\n",
      "\n",
      "\n",
      "列名:  deposit_type\n",
      "-------------------------\n",
      "类型:  object\n",
      "-------------------------\n",
      "No Deposit    104641\n",
      "Non Refund     14587\n",
      "Refundable       162\n",
      "Name: deposit_type, dtype: int64\n",
      "-------------------------\n",
      "\n",
      "\n",
      "\n",
      "列名:  agent\n",
      "-------------------------\n",
      "类型:  float64\n",
      "-------------------------\n",
      "9.0      31961\n",
      "240.0    13922\n",
      "1.0       7191\n",
      "14.0      3640\n",
      "7.0       3539\n",
      "         ...  \n",
      "291.0        1\n",
      "483.0        1\n",
      "197.0        1\n",
      "433.0        1\n",
      "304.0        1\n",
      "Name: agent, Length: 333, dtype: int64\n",
      "-------------------------\n",
      "\n",
      "\n",
      "\n",
      "列名:  company\n",
      "-------------------------\n",
      "类型:  float64\n",
      "-------------------------\n",
      "40.0     927\n",
      "223.0    784\n",
      "67.0     267\n",
      "45.0     250\n",
      "153.0    215\n",
      "        ... \n",
      "77.0       1\n",
      "489.0      1\n",
      "229.0      1\n",
      "481.0      1\n",
      "386.0      1\n",
      "Name: company, Length: 352, dtype: int64\n",
      "-------------------------\n",
      "\n",
      "\n",
      "\n",
      "列名:  days_in_waiting_list\n",
      "-------------------------\n",
      "类型:  int64\n",
      "-------------------------\n",
      "0      115692\n",
      "39        227\n",
      "58        164\n",
      "44        141\n",
      "31        127\n",
      "        ...  \n",
      "74          1\n",
      "81          1\n",
      "73          1\n",
      "167         1\n",
      "36          1\n",
      "Name: days_in_waiting_list, Length: 128, dtype: int64\n",
      "-------------------------\n",
      "\n",
      "\n",
      "\n",
      "列名:  customer_type\n",
      "-------------------------\n",
      "类型:  object\n",
      "-------------------------\n",
      "Transient          89613\n",
      "Transient-Party    25124\n",
      "Contract            4076\n",
      "Group                577\n",
      "Name: customer_type, dtype: int64\n",
      "-------------------------\n",
      "\n",
      "\n",
      "\n",
      "列名:  adr\n",
      "-------------------------\n",
      "类型:  float64\n",
      "-------------------------\n",
      "62.00     3754\n",
      "75.00     2715\n",
      "90.00     2473\n",
      "65.00     2418\n",
      "0.00      1959\n",
      "          ... \n",
      "194.06       1\n",
      "163.22       1\n",
      "176.91       1\n",
      "150.06       1\n",
      "157.71       1\n",
      "Name: adr, Length: 8879, dtype: int64\n",
      "-------------------------\n",
      "\n",
      "\n",
      "\n",
      "列名:  required_car_parking_spaces\n",
      "-------------------------\n",
      "类型:  int64\n",
      "-------------------------\n",
      "0    111974\n",
      "1      7383\n",
      "2        28\n",
      "3         3\n",
      "8         2\n",
      "Name: required_car_parking_spaces, dtype: int64\n",
      "-------------------------\n",
      "\n",
      "\n",
      "\n",
      "列名:  total_of_special_requests\n",
      "-------------------------\n",
      "类型:  int64\n",
      "-------------------------\n",
      "0    70318\n",
      "1    33226\n",
      "2    12969\n",
      "3     2497\n",
      "4      340\n",
      "5       40\n",
      "Name: total_of_special_requests, dtype: int64\n",
      "-------------------------\n",
      "\n",
      "\n",
      "\n",
      "列名:  reservation_status\n",
      "-------------------------\n",
      "类型:  object\n",
      "-------------------------\n",
      "Check-Out    75166\n",
      "Canceled     43017\n",
      "No-Show       1207\n",
      "Name: reservation_status, dtype: int64\n",
      "-------------------------\n",
      "\n",
      "\n",
      "\n",
      "列名:  reservation_status_date\n",
      "-------------------------\n",
      "类型:  object\n",
      "-------------------------\n",
      "2015-10-21    1461\n",
      "2015-07-06     805\n",
      "2016-11-25     790\n",
      "2015-01-01     763\n",
      "2016-01-18     625\n",
      "              ... \n",
      "2015-03-05       1\n",
      "2015-03-28       1\n",
      "2015-04-27       1\n",
      "2014-11-18       1\n",
      "2015-02-12       1\n",
      "Name: reservation_status_date, Length: 926, dtype: int64\n",
      "-------------------------\n",
      "\n",
      "\n",
      "\n"
     ]
    }
   ],
   "source": [
    "# 输出各列的取值\n",
    "for column in data_origin.columns:\n",
    "    print(\"列名: \", column)\n",
    "    print('-'*25)\n",
    "    print(\"类型: \", data_origin[column].dtype)\n",
    "    print('-'*25)\n",
    "    print(data_origin[column].value_counts().sort_values(ascending=False))\n",
    "    print('-'*25)\n",
    "    print('\\n'*2)"
   ],
   "metadata": {
    "collapsed": false,
    "pycharm": {
     "name": "#%%\n"
    }
   }
  },
  {
   "cell_type": "code",
   "execution_count": 4,
   "outputs": [
    {
     "name": "stdout",
     "output_type": "stream",
     "text": [
      "Index(['hotel', 'is_canceled', 'lead_time', 'arrival_date_year',\n",
      "       'arrival_date_month', 'arrival_date_week_number',\n",
      "       'arrival_date_day_of_month', 'stays_in_weekend_nights',\n",
      "       'stays_in_week_nights', 'adults', 'children', 'babies', 'meal',\n",
      "       'country', 'market_segment', 'distribution_channel',\n",
      "       'is_repeated_guest', 'previous_cancellations',\n",
      "       'previous_bookings_not_canceled', 'reserved_room_type',\n",
      "       'assigned_room_type', 'booking_changes', 'deposit_type', 'agent',\n",
      "       'company', 'days_in_waiting_list', 'customer_type', 'adr',\n",
      "       'required_car_parking_spaces', 'total_of_special_requests',\n",
      "       'reservation_status', 'reservation_status_date'],\n",
      "      dtype='object')\n"
     ]
    }
   ],
   "source": [
    "print(data_origin.columns)"
   ],
   "metadata": {
    "collapsed": false,
    "pycharm": {
     "name": "#%%\n"
    }
   }
  },
  {
   "cell_type": "markdown",
   "source": [
    "数据列主要包含了以下3个方面信息\n",
    "\n",
    "1.客户信息：客户自身属性信息\n",
    "\n",
    "2.房间信息：酒店房间的价格/类型特征\n",
    "\n",
    "3.订单信息：预定相关时间/状态信息"
   ],
   "metadata": {
    "collapsed": false,
    "pycharm": {
     "name": "#%% md\n"
    }
   }
  },
  {
   "cell_type": "markdown",
   "source": [
    "# 3. 数据清理\n",
    "\n",
    "## 3.1 缺失值处理\n",
    "\n",
    "- 统计出现缺失值的各列所包含的缺失值数目。"
   ],
   "metadata": {
    "collapsed": false,
    "pycharm": {
     "name": "#%% md\n"
    }
   }
  },
  {
   "cell_type": "code",
   "execution_count": 5,
   "outputs": [
    {
     "name": "stdout",
     "output_type": "stream",
     "text": [
      "children         4\n",
      "country        488\n",
      "agent        16340\n",
      "company     112593\n",
      "dtype: int64\n"
     ]
    }
   ],
   "source": [
    "# 保留副本\n",
    "data = data_origin.copy()\n",
    "missing = data.isnull().sum(axis=0)\n",
    "print(missing[missing != 0])"
   ],
   "metadata": {
    "collapsed": false,
    "pycharm": {
     "name": "#%%\n"
    }
   }
  },
  {
   "cell_type": "markdown",
   "source": [
    "可见，共有四列出现缺失值，分别作出如下处理：\n",
    "\n",
    "- children 和 country 列由于缺失数目较小，采用对应列众数进行填充；\n",
    "- agent列缺失数目较多，将缺失值单独作为新类别，标记为0；\n",
    "- company列几乎全为缺失值，不能提供足够信息，删除此列。"
   ],
   "metadata": {
    "collapsed": false,
    "pycharm": {
     "name": "#%% md\n"
    }
   }
  },
  {
   "cell_type": "code",
   "execution_count": 6,
   "outputs": [],
   "source": [
    "#缺失值处理\n",
    "\n",
    "data.children.fillna(data.children.mode()[0], inplace=True)\n",
    "data.country.fillna(data.country.mode()[0], inplace=True)"
   ],
   "metadata": {
    "collapsed": false,
    "pycharm": {
     "name": "#%%\n"
    }
   }
  },
  {
   "cell_type": "code",
   "execution_count": 7,
   "outputs": [],
   "source": [
    "data.agent.fillna(0, inplace=True)\n",
    "data.drop('company', inplace=True, axis=1)"
   ],
   "metadata": {
    "collapsed": false,
    "pycharm": {
     "name": "#%%\n"
    }
   }
  },
  {
   "cell_type": "markdown",
   "source": [
    "## 3.2 异常值处理\n",
    "\n",
    "- 数据集中存在入住总人数为0和总入住天数为0的异常数据，同样需要对这些数据进行筛选和清理。\n",
    "- 同时，查询数据集说明可知，在 Meal 列中 Undefined / SC 均表示未预定餐食，应合并为同一类。"
   ],
   "metadata": {
    "collapsed": false,
    "pycharm": {
     "name": "#%% md\n"
    }
   }
  },
  {
   "cell_type": "code",
   "execution_count": 8,
   "outputs": [],
   "source": [
    "# 异常值处理 - 找到要删除的数据index, 利用 drop 语句进行删除。\n",
    "# 入住人数为0\n",
    "zero_guest = data[ data[['adults', 'children', 'babies']].sum(axis=1) == 0 ]\n",
    "data.drop(zero_guest.index, inplace=True)"
   ],
   "metadata": {
    "collapsed": false,
    "pycharm": {
     "name": "#%%\n"
    }
   }
  },
  {
   "cell_type": "code",
   "execution_count": 9,
   "outputs": [],
   "source": [
    "# 入住天数为0\n",
    "zero_days = data[data[['stays_in_week_nights', 'stays_in_weekend_nights']].sum(axis=1) == 0]\n",
    "data.drop(zero_days.index, inplace=True)"
   ],
   "metadata": {
    "collapsed": false,
    "pycharm": {
     "name": "#%%\n"
    }
   }
  },
  {
   "cell_type": "code",
   "execution_count": 10,
   "outputs": [
    {
     "name": "stdout",
     "output_type": "stream",
     "text": [
      "<class 'pandas.core.frame.DataFrame'>\n",
      "Int64Index: 118565 entries, 2 to 119389\n",
      "Data columns (total 31 columns):\n",
      " #   Column                          Non-Null Count   Dtype  \n",
      "---  ------                          --------------   -----  \n",
      " 0   hotel                           118565 non-null  object \n",
      " 1   is_canceled                     118565 non-null  int64  \n",
      " 2   lead_time                       118565 non-null  int64  \n",
      " 3   arrival_date_year               118565 non-null  int64  \n",
      " 4   arrival_date_month              118565 non-null  object \n",
      " 5   arrival_date_week_number        118565 non-null  int64  \n",
      " 6   arrival_date_day_of_month       118565 non-null  int64  \n",
      " 7   stays_in_weekend_nights         118565 non-null  int64  \n",
      " 8   stays_in_week_nights            118565 non-null  int64  \n",
      " 9   adults                          118565 non-null  int64  \n",
      " 10  children                        118565 non-null  float64\n",
      " 11  babies                          118565 non-null  int64  \n",
      " 12  meal                            118565 non-null  object \n",
      " 13  country                         118565 non-null  object \n",
      " 14  market_segment                  118565 non-null  object \n",
      " 15  distribution_channel            118565 non-null  object \n",
      " 16  is_repeated_guest               118565 non-null  int64  \n",
      " 17  previous_cancellations          118565 non-null  int64  \n",
      " 18  previous_bookings_not_canceled  118565 non-null  int64  \n",
      " 19  reserved_room_type              118565 non-null  object \n",
      " 20  assigned_room_type              118565 non-null  object \n",
      " 21  booking_changes                 118565 non-null  int64  \n",
      " 22  deposit_type                    118565 non-null  object \n",
      " 23  agent                           118565 non-null  float64\n",
      " 24  days_in_waiting_list            118565 non-null  int64  \n",
      " 25  customer_type                   118565 non-null  object \n",
      " 26  adr                             118565 non-null  float64\n",
      " 27  required_car_parking_spaces     118565 non-null  int64  \n",
      " 28  total_of_special_requests       118565 non-null  int64  \n",
      " 29  reservation_status              118565 non-null  object \n",
      " 30  reservation_status_date         118565 non-null  object \n",
      "dtypes: float64(3), int64(16), object(12)\n",
      "memory usage: 28.9+ MB\n"
     ]
    }
   ],
   "source": [
    "# 餐食类型 Undefined / SC 合并 - replace 语句 ：替代前, 替代后\n",
    "data.meal.replace(\"Undefined\", \"SC\", inplace=True)\n",
    "data.info()\n"
   ],
   "metadata": {
    "collapsed": false,
    "pycharm": {
     "name": "#%%\n"
    }
   }
  },
  {
   "cell_type": "code",
   "execution_count": 11,
   "outputs": [
    {
     "data": {
      "text/plain": "Series([], dtype: int64)"
     },
     "execution_count": 11,
     "metadata": {},
     "output_type": "execute_result"
    }
   ],
   "source": [
    "# 最后检查一遍是否有缺失值 : 输出空集，不存在任何缺失值。\n",
    "data.isnull().sum()[data.isnull().sum() != 0]"
   ],
   "metadata": {
    "collapsed": false,
    "pycharm": {
     "name": "#%%\n"
    }
   }
  },
  {
   "cell_type": "markdown",
   "source": [
    "- 数据清理完成，数据集大小变为118565×31。"
   ],
   "metadata": {
    "collapsed": false,
    "pycharm": {
     "name": "#%% md\n"
    }
   }
  },
  {
   "cell_type": "markdown",
   "source": [
    "# 4. 数据可视化\n",
    "\n",
    "- 主要看各指标与 是否取消认定 之间的关系。\n",
    "\n",
    "## 4.1 客房信息分析\n",
    "\n",
    "### ① 酒店类型"
   ],
   "metadata": {
    "collapsed": false,
    "pycharm": {
     "name": "#%% md\n"
    }
   }
  },
  {
   "cell_type": "code",
   "execution_count": 12,
   "outputs": [
    {
     "data": {
      "text/plain": "<Figure size 432x288 with 1 Axes>",
      "image/png": "[encoded data removed]"
     },
     "metadata": {
      "needs_background": "light"
     },
     "output_type": "display_data"
    }
   ],
   "source": [
    "# 查看酒店类型与取消预定的关系\n",
    "# countplot - 解析：使用条形图(柱状图)显示每个分类数据中的数量统计\n",
    "sns.countplot(\n",
    "    x='hotel',\n",
    "    hue='is_canceled',\n",
    "    data=data\n",
    ")\n",
    "plt.show()"
   ],
   "metadata": {
    "collapsed": false,
    "pycharm": {
     "name": "#%%\n"
    }
   }
  },
  {
   "cell_type": "markdown",
   "source": [
    "- 城市酒店订单量明显超过度假酒店，但同时预订取消的可能性也远远高于度假酒店。"
   ],
   "metadata": {
    "collapsed": false,
    "pycharm": {
     "name": "#%% md\n"
    }
   }
  },
  {
   "cell_type": "markdown",
   "source": [
    "### ② 客房类型"
   ],
   "metadata": {
    "collapsed": false,
    "pycharm": {
     "name": "#%% md\n"
    }
   }
  },
  {
   "cell_type": "code",
   "execution_count": 13,
   "outputs": [
    {
     "data": {
      "text/plain": "<Figure size 432x288 with 2 Axes>",
      "image/png": "[encoded data removed]"
     },
     "metadata": {
      "needs_background": "light"
     },
     "output_type": "display_data"
    },
    {
     "data": {
      "text/plain": "<Figure size 432x288 with 2 Axes>",
      "image/png": "[encoded data removed]"
     },
     "metadata": {
      "needs_background": "light"
     },
     "output_type": "display_data"
    }
   ],
   "source": [
    "index = 1\n",
    "for room_type in ['reserved_room_type', 'assigned_room_type']:\n",
    "    ax1 = plt.subplot(2, 1, index)\n",
    "    index += 1\n",
    "    ax2 = ax1.twinx()\n",
    "    # ax1 显示数量\n",
    "    ax1.bar(\n",
    "        data.groupby(room_type).size().index,\n",
    "        data.groupby(room_type).size()\n",
    "    )\n",
    "    ax1.set_xlabel(room_type)\n",
    "    ax1.set_ylabel('Number')\n",
    "    # ax2 显示取消率\n",
    "    ax2.plot(\n",
    "        data.groupby(room_type)['is_canceled'].mean(), 'ro-'\n",
    "    )\n",
    "    ax2.set_ylabel('Cancellation rate')\n",
    "    plt.show()"
   ],
   "metadata": {
    "collapsed": false,
    "pycharm": {
     "name": "#%%\n"
    }
   }
  },
  {
   "cell_type": "markdown",
   "source": [
    "- 订单预定和分配的房间类型多数集中在A/D/E/F四类，其中A类房型取消率高出其余三类约7-8个百分点，值得关注。\n",
    "\n",
    "进一步探索房间类型的变更（即分配房型≠预定房型）对于取消率的影响。"
   ],
   "metadata": {
    "collapsed": false,
    "pycharm": {
     "name": "#%% md\n"
    }
   }
  },
  {
   "cell_type": "code",
   "execution_count": 14,
   "outputs": [
    {
     "data": {
      "text/plain": "<AxesSubplot:xlabel='room_chaged', ylabel='count'>"
     },
     "execution_count": 14,
     "metadata": {},
     "output_type": "execute_result"
    },
    {
     "data": {
      "text/plain": "<Figure size 432x288 with 1 Axes>",
      "image/png": "[encoded data removed]"
     },
     "metadata": {
      "needs_background": "light"
     },
     "output_type": "display_data"
    }
   ],
   "source": [
    "# 房间类型变更对取消预定的影响\n",
    "# 返回布尔数组\n",
    "data['room_chaged'] = data['reserved_room_type'] != data['assigned_room_type']\n",
    "sns.countplot(x='room_chaged', hue='is_canceled', data=data)"
   ],
   "metadata": {
    "collapsed": false,
    "pycharm": {
     "name": "#%%\n"
    }
   }
  },
  {
   "cell_type": "markdown",
   "source": [
    "房型变更过的客户取消预定的概率远远小于未变更过的客户，可能有以下原因：\n",
    "\n",
    "①客户到达酒店后临时更改房型，多数客户会选择不取消预定，直接入住；\n",
    "\n",
    "②客户自行更改房型，相对取消预定而言，这类客户更愿意更改房间类型而保证正常入住。"
   ],
   "metadata": {
    "collapsed": false,
    "pycharm": {
     "name": "#%% md\n"
    }
   }
  },
  {
   "cell_type": "markdown",
   "source": [
    "## 4.2 客户信息分析\n",
    "### ① 入住人数"
   ],
   "metadata": {
    "collapsed": false,
    "pycharm": {
     "name": "#%% md\n"
    }
   }
  },
  {
   "cell_type": "code",
   "execution_count": 15,
   "outputs": [
    {
     "data": {
      "text/plain": "<Figure size 864x432 with 6 Axes>",
      "image/png": "[encoded data removed]"
     },
     "metadata": {
      "needs_background": "light"
     },
     "output_type": "display_data"
    }
   ],
   "source": [
    "# 查看预定人数与取消预定的关系\n",
    "plt.figure(figsize=(12, 6))\n",
    "index = 0\n",
    "\n",
    "for people in ['adults', 'children', 'babies']:\n",
    "    index += 1\n",
    "    plt.subplot(2, 3, index)\n",
    "    # 上：预定人数与取消率的关系\n",
    "    plt.plot(\n",
    "        data.groupby(people)['is_canceled'].mean(),\n",
    "        'ro-',\n",
    "        ms=4\n",
    "    )\n",
    "    plt.title(people, fontsize=20)\n",
    "    plt.subplot(2, 3, index+3)\n",
    "    people_stats = data[people].value_counts()\n",
    "    # 下：预定人数分布\n",
    "    sns.barplot(people_stats.index, people_stats.values)\n",
    "plt.tight_layout()\n",
    "plt.show()"
   ],
   "metadata": {
    "collapsed": false,
    "pycharm": {
     "name": "#%%\n"
    }
   }
  },
  {
   "cell_type": "markdown",
   "source": [
    "1）多数预定订单没有儿童和婴儿入住，其中单人入住和双人入住是主要的预定人数模式；\n",
    "\n",
    "2）有婴儿入住时预定取消率大幅下降；\n",
    "\n",
    "3）超过5人以上入住的订单基本全部取消，这部分可能是刷单等异常订单，酒店需要注意。"
   ],
   "metadata": {
    "collapsed": false,
    "pycharm": {
     "name": "#%% md\n"
    }
   }
  },
  {
   "cell_type": "markdown",
   "source": [
    "\n",
    "针对不同酒店，重点分析下列几种入住人数情况的取消率：\n",
    "\n",
    "- 单人入住：adults=1, children, babies=0；\n",
    "- 双人入住：adults=2, children, babies=0；\n",
    "- 家庭入住：adults>2, children, babies>0。"
   ],
   "metadata": {
    "collapsed": false,
    "pycharm": {
     "name": "#%% md\n"
    }
   }
  },
  {
   "cell_type": "code",
   "execution_count": 16,
   "outputs": [],
   "source": [
    "# 入住人数模式分析 : 取个代号\n",
    "# 单人\n",
    "single = (data.adults == 1) & (data.children == 0) & (data.babies == 0)\n",
    "# 双人\n",
    "couple = (data.adults == 2) & (data.children == 0) & (data.babies == 0)\n",
    "# 家庭\n",
    "family = (data.adults >= 2) & (data.children > 0) | (data.babies > 0)"
   ],
   "metadata": {
    "collapsed": false,
    "pycharm": {
     "name": "#%%\n"
    }
   }
  },
  {
   "cell_type": "code",
   "execution_count": 17,
   "outputs": [
    {
     "data": {
      "text/plain": "<Figure size 720x432 with 2 Axes>",
      "image/png": "[encoded data removed]"
     },
     "metadata": {
      "needs_background": "light"
     },
     "output_type": "display_data"
    }
   ],
   "source": [
    "data['people_mode'] = single.astype(int) + couple.astype(int) * 2 + family.astype(int) * 3\n",
    "plt.figure(figsize=(10, 6))\n",
    "index = 1\n",
    "for hotel_kind in ['City Hotel', 'Resort Hotel']:\n",
    "    plt.subplot(1, 2, index)\n",
    "    index += 1\n",
    "    sns.countplot(\n",
    "        x='people_mode',\n",
    "        hue='is_canceled',\n",
    "        data=data[data.hotel == hotel_kind]\n",
    "    )\n",
    "    plt.xticks([0, 1, 2, 3], ['Others', 'Single', 'Couple', 'Family'])\n",
    "    plt.title(hotel_kind)\n",
    "plt.tight_layout()\n",
    "plt.show()"
   ],
   "metadata": {
    "collapsed": false,
    "pycharm": {
     "name": "#%%\n"
    }
   }
  },
  {
   "cell_type": "markdown",
   "source": [
    "- 对于城市酒店，取消预定概率：双人>>单人≈家庭，应注意双人入住客户的高取消率现象，改善酒店对于双人入住客户的配套服务以降低取消率。\n",
    "\n",
    "- 对于度假酒店，取消预订概率：家庭>双人>单人，酒店可适当针对家庭客户提供相应的优惠折扣，提高家庭客户入住率。"
   ],
   "metadata": {
    "collapsed": false,
    "pycharm": {
     "name": "#%% md\n"
    }
   }
  },
  {
   "cell_type": "markdown",
   "source": [
    "### ② 餐食类型"
   ],
   "metadata": {
    "collapsed": false,
    "pycharm": {
     "name": "#%% md\n"
    }
   }
  },
  {
   "cell_type": "code",
   "execution_count": 18,
   "outputs": [
    {
     "data": {
      "text/plain": "Text(0.5, 1.0, 'Uncanceled')"
     },
     "execution_count": 18,
     "metadata": {},
     "output_type": "execute_result"
    },
    {
     "data": {
      "text/plain": "<Figure size 864x432 with 2 Axes>",
      "image/png": "[encoded data removed]"
     },
     "metadata": {},
     "output_type": "display_data"
    }
   ],
   "source": [
    "# 查看餐食类型与取消预定的关系\n",
    "plt.figure(figsize=(12, 6))\n",
    "\n",
    "\n",
    "# 取消预定情况下的饼图分布\n",
    "plt.subplot(121)\n",
    "plt.pie(\n",
    "    data[data['is_canceled'] == 1].meal.value_counts(),\n",
    "    labels=data[data['is_canceled'] == 1].meal.value_counts().index,\n",
    "    autopct='%.2f%%'\n",
    ")\n",
    "plt.legend(loc=1)\n",
    "plt.title('Canceled')\n",
    "\n",
    "\n",
    "# 未取消预定情况下的饼图分布\n",
    "plt.subplot(122)\n",
    "plt.pie(\n",
    "    data[data['is_canceled'] == 0].meal.value_counts(),\n",
    "    labels=data[data['is_canceled'] == 0].meal.value_counts().index,\n",
    "    autopct='%.2f%%'\n",
    ")\n",
    "plt.legend(loc=1)\n",
    "plt.title('Uncanceled')"
   ],
   "metadata": {
    "collapsed": false,
    "pycharm": {
     "name": "#%%\n"
    }
   }
  },
  {
   "cell_type": "markdown",
   "source": [
    "### ③ 车位需求"
   ],
   "metadata": {
    "collapsed": false,
    "pycharm": {
     "name": "#%% md\n"
    }
   }
  },
  {
   "cell_type": "code",
   "execution_count": 19,
   "outputs": [
    {
     "data": {
      "text/plain": "<AxesSubplot:xlabel='required_car_parking_spaces', ylabel='count'>"
     },
     "execution_count": 19,
     "metadata": {},
     "output_type": "execute_result"
    },
    {
     "data": {
      "text/plain": "<Figure size 432x288 with 1 Axes>",
      "image/png": "[encoded data removed]"
     },
     "metadata": {
      "needs_background": "light"
     },
     "output_type": "display_data"
    }
   ],
   "source": [
    "# 车位需求统计\n",
    "sns.countplot(x='required_car_parking_spaces', hue='hotel', data=data)"
   ],
   "metadata": {
    "collapsed": false,
    "pycharm": {
     "name": "#%%\n"
    }
   }
  },
  {
   "cell_type": "markdown",
   "source": [
    "- 多数客户不需要停车位，相比之下，度假酒店客户需要停车位的比例远大于城市酒店。"
   ],
   "metadata": {
    "collapsed": false,
    "pycharm": {
     "name": "#%% md\n"
    }
   }
  },
  {
   "cell_type": "markdown",
   "source": [
    "### ④ 国家/地区\n",
    "\n",
    "- 数据集客户来自177个国家/地区，为方便分析，只选择预定数前20的国家/地区进行分析。"
   ],
   "metadata": {
    "collapsed": false,
    "pycharm": {
     "name": "#%% md\n"
    }
   }
  },
  {
   "cell_type": "code",
   "execution_count": 20,
   "outputs": [
    {
     "data": {
      "text/plain": "Text(0, 0.5, 'Cancellation rate')"
     },
     "execution_count": 20,
     "metadata": {},
     "output_type": "execute_result"
    },
    {
     "data": {
      "text/plain": "<Figure size 720x432 with 2 Axes>",
      "image/png": "[encoded data removed]"
     },
     "metadata": {
      "needs_background": "light"
     },
     "output_type": "display_data"
    }
   ],
   "source": [
    "# 查看不同国家订单取消率\n",
    "# 选取预定数前20个国家/地区\n",
    "\n",
    "countries_20 = list(\n",
    "    data.groupby('country').size().sort_values(ascending=False).head(20).index\n",
    ")\n",
    "# 前20个国家占比 94.21%\n",
    "data[data.country.isin(countries_20)].shape[0] / data.shape[0]\n",
    "\n",
    "\n",
    "# 绘制订单数量\n",
    "fig, ax1 = plt.subplots(figsize=(10, 6))\n",
    "ax2 = ax1.twinx()\n",
    "plt.xticks(range(20), countries_20)\n",
    "ax1.bar(\n",
    "    range(20),\n",
    "    data[data.country.isin(countries_20)].groupby('country').size().sort_values(ascending=False)\n",
    ")\n",
    "ax1.set_xlabel('Country')\n",
    "ax1.set_ylabel('Total Number of Booking')\n",
    "\n",
    "\n",
    "# 绘制取消率\n",
    "ax2.plot(\n",
    "    range(20),\n",
    "    # 按 loc[countries_20] 的顺序进行显示\n",
    "    data[data.country.isin(countries_20)].groupby('country')['is_canceled'].mean().loc[countries_20],\n",
    "    'ro-'\n",
    ")\n",
    "ax2.set_ylabel('Cancellation rate')"
   ],
   "metadata": {
    "collapsed": false,
    "pycharm": {
     "name": "#%%\n"
    }
   }
  },
  {
   "cell_type": "markdown",
   "source": [
    "- 统计可知，前20名国家/地区数据量占据全部数据的94%，客户主要来自葡萄牙，英国，法国，西班牙等欧洲国家。\n",
    "- 不同国家之间预定取消率的差距非常显著，取消率较高的国家有葡萄牙、意大利、巴西、中国、俄罗斯，以发展中国家为主。"
   ],
   "metadata": {
    "collapsed": false,
    "pycharm": {
     "name": "#%% md\n"
    }
   }
  },
  {
   "cell_type": "markdown",
   "source": [
    "### ⑤ 客户预定历史\n",
    "- 客户预定历史指客户之前预定过的订单的取消情况，可以一定程度上反映客户当前订单的取消意愿。"
   ],
   "metadata": {
    "collapsed": false,
    "pycharm": {
     "name": "#%% md\n"
    }
   }
  },
  {
   "cell_type": "code",
   "execution_count": 21,
   "outputs": [
    {
     "data": {
      "text/plain": "([<matplotlib.axis.XTick at 0x25c36338ee0>,\n  <matplotlib.axis.XTick at 0x25c36338eb0>],\n [Text(0, 0, 'New Guest'), Text(1, 0, 'Repeated Guest')])"
     },
     "execution_count": 21,
     "metadata": {},
     "output_type": "execute_result"
    },
    {
     "data": {
      "text/plain": "<Figure size 432x288 with 1 Axes>",
      "image/png": "[encoded data removed]"
     },
     "metadata": {
      "needs_background": "light"
     },
     "output_type": "display_data"
    }
   ],
   "source": [
    "# 查看客户预定历史与取消订单的关系\n",
    "# 是否回头客\n",
    "tick_label = ['New Guest', 'Repeated Guest']\n",
    "sns.countplot(\n",
    "    x='is_repeated_guest',\n",
    "    hue='is_canceled',\n",
    "    data=data\n",
    ")\n",
    "plt.xticks([0, 1], tick_label)"
   ],
   "metadata": {
    "collapsed": false,
    "pycharm": {
     "name": "#%%\n"
    }
   }
  },
  {
   "cell_type": "code",
   "execution_count": 22,
   "outputs": [
    {
     "data": {
      "text/plain": "Text(0.5, 0, 'Previous Un-Cancellations')"
     },
     "execution_count": 22,
     "metadata": {},
     "output_type": "execute_result"
    },
    {
     "data": {
      "text/plain": "<Figure size 432x288 with 2 Axes>",
      "image/png": "[encoded data removed]"
     },
     "metadata": {
      "needs_background": "light"
     },
     "output_type": "display_data"
    }
   ],
   "source": [
    "# 之前取消预定次数\n",
    "plt.subplot(121)\n",
    "plt.plot(\n",
    "    data.groupby('previous_cancellations')['is_canceled'].mean(),\n",
    "    'ro'\n",
    ")\n",
    "plt.xlabel('Previous Cancellations')\n",
    "\n",
    "# 之前未取消预定次数\n",
    "plt.subplot(122)\n",
    "plt.plot(\n",
    "    data.groupby('previous_bookings_not_canceled')['is_canceled'].mean(),\n",
    "    'bo'\n",
    ")\n",
    "plt.ylim(0, 1)\n",
    "plt.xlabel('Previous Un-Cancellations')"
   ],
   "metadata": {
    "collapsed": false,
    "pycharm": {
     "name": "#%%\n"
    }
   }
  },
  {
   "cell_type": "markdown",
   "source": [
    "1）大多数预定来自于新客，而熟客取消预定的概率远远小于新客；\n",
    "\n",
    "2）先前取消过预定的客户本次预定取消的概率较大，尤其是取消过预定15次以上的客户，基本上不会选择入住，可以计入酒店的“黑名单”；\n",
    "\n",
    "3）先前预定并入住过的客户相对来说信用较好，高入住次数（>20次）客户基本不会取消预订。"
   ],
   "metadata": {
    "collapsed": false,
    "pycharm": {
     "name": "#%% md\n"
    }
   }
  },
  {
   "cell_type": "markdown",
   "source": [
    "## 4.3 订单信息分析\n",
    "### ① 提前预定时长"
   ],
   "metadata": {
    "collapsed": false,
    "pycharm": {
     "name": "#%% md\n"
    }
   }
  },
  {
   "cell_type": "code",
   "execution_count": 23,
   "outputs": [
    {
     "data": {
      "text/plain": "Text(0, 0.5, 'Cancellation rate')"
     },
     "execution_count": 23,
     "metadata": {},
     "output_type": "execute_result"
    },
    {
     "data": {
      "text/plain": "<Figure size 864x432 with 2 Axes>",
      "image/png": "[encoded data removed]"
     },
     "metadata": {
      "needs_background": "light"
     },
     "output_type": "display_data"
    }
   ],
   "source": [
    "# 提前预定时长的分部情况\n",
    "plt.figure(figsize=(12, 6))\n",
    "plt.subplot(121)\n",
    "plt.hist(data['lead_time'], bins=50)\n",
    "plt.xlabel('Lead Time')\n",
    "plt.ylabel('Number')\n",
    "\n",
    "\n",
    "# 提前预定时长对取消的影响\n",
    "plt.subplot(122)\n",
    "plt.plot(\n",
    "    data.groupby('lead_time')['is_canceled'].mean().index,\n",
    "    data.groupby('lead_time')['is_canceled'].mean(),\n",
    "    'ro',\n",
    "    markersize=2\n",
    ")\n",
    "plt.xlabel('Lead Time')\n",
    "plt.ylabel('Cancellation rate')"
   ],
   "metadata": {
    "collapsed": false,
    "pycharm": {
     "name": "#%%\n"
    }
   }
  },
  {
   "cell_type": "markdown",
   "source": [
    "- 从预定提前时长分布明显可以看出，客户倾向于选择与入住时间相近的时间预定，并且随着预定提前时长的增大，取消率呈现上升趋势。"
   ],
   "metadata": {
    "collapsed": false,
    "pycharm": {
     "name": "#%% md\n"
    }
   }
  },
  {
   "cell_type": "markdown",
   "source": [
    "### ② 入住时间\n",
    "\n",
    "- 数据集时间跨度为2015年7月-2017年8月，研究不同月份的预定取消情况。"
   ],
   "metadata": {
    "collapsed": false,
    "pycharm": {
     "name": "#%% md\n"
    }
   }
  },
  {
   "cell_type": "code",
   "execution_count": 24,
   "outputs": [
    {
     "data": {
      "text/plain": "<Figure size 432x288 with 2 Axes>",
      "image/png": "[encoded data removed]"
     },
     "metadata": {
      "needs_background": "light"
     },
     "output_type": "display_data"
    },
    {
     "data": {
      "text/plain": "<Figure size 432x288 with 2 Axes>",
      "image/png": "[encoded data removed]"
     },
     "metadata": {
      "needs_background": "light"
     },
     "output_type": "display_data"
    }
   ],
   "source": [
    "# 不同月份预定和取消情况\n",
    "ordered_months = [\n",
    "    \"January\", \"February\", \"March\", \"April\", \"May\", \"June\", \"July\", \"August\",\n",
    "    \"September\", \"October\", \"November\", \"December\"\n",
    "]\n",
    "\n",
    "for hotel in ['City Hotel', 'Resort Hotel']:\n",
    "    fig, ax1 = plt.subplots()\n",
    "    ax2 = ax1.twinx()\n",
    "    data_hotel = data[data.hotel == hotel]\n",
    "    monthly = data_hotel.groupby('arrival_date_month').size()\n",
    "    monthly /= 2\n",
    "    monthly.loc[['July', 'August']] = monthly.loc[['July', 'August']] * 2 / 3\n",
    "    # ax1 绘制订单数量\n",
    "    sns.barplot(list(range(1, 13)), monthly[ordered_months], ax=ax1)\n",
    "\n",
    "\n",
    "    # ax2 绘制取消预定率\n",
    "    ax2.plot(\n",
    "        range(12),\n",
    "        data_hotel.groupby('arrival_date_month')['is_canceled'].mean()[ordered_months].values,\n",
    "        'ro-'\n",
    "    )\n",
    "    ax1.set_xlabel('Month')\n",
    "    ax2.set_ylabel('Cancellation rate')"
   ],
   "metadata": {
    "collapsed": false,
    "pycharm": {
     "name": "#%%\n"
    }
   }
  },
  {
   "cell_type": "markdown",
   "source": [
    "1）预定量上，城市酒店7/8月出现大幅下滑，同期度假酒店变化较小，整体而言，度假酒店月度客流量变化较小；\n",
    "\n",
    "2）取消率上，两家酒店冬季取消率相对较低，城市酒店夏季取消率降低，度假酒店却处于高峰。"
   ],
   "metadata": {
    "collapsed": false
   }
  },
  {
   "cell_type": "markdown",
   "source": [
    "结合酒店人均价格波动进行分析"
   ],
   "metadata": {
    "collapsed": false
   }
  },
  {
   "cell_type": "code",
   "execution_count": 25,
   "outputs": [
    {
     "data": {
      "text/plain": "<matplotlib.legend.Legend at 0x25c355c6f40>"
     },
     "execution_count": 25,
     "metadata": {},
     "output_type": "execute_result"
    },
    {
     "data": {
      "text/plain": "<Figure size 432x288 with 1 Axes>",
      "image/png": "[encoded data removed]"
     },
     "metadata": {
      "needs_background": "light"
     },
     "output_type": "display_data"
    }
   ],
   "source": [
    "# 不同酒店人均价格波动\n",
    "# 人均价格(不考虑 babies)\n",
    "\n",
    "data['adr_per_person'] = data['adr'] / (data['adults'] + data['children'])\n",
    "plt.plot(\n",
    "    # [ordered_months] 的作用是，按 list 中的元素的顺序进行展示\n",
    "    data[data.hotel == 'City Hotel'].groupby('arrival_date_month')['adr_per_person'].mean()[ordered_months],\n",
    "    label='City Hotel'\n",
    ")\n",
    "\n",
    "plt.plot(\n",
    "    # [ordered_months] 的作用是，按 list 中的元素的顺序进行展示\n",
    "    data[data.hotel == 'Resort Hotel'].groupby('arrival_date_month')['adr_per_person'].mean()[ordered_months],\n",
    "    label='Resort Hotel'\n",
    ")\n",
    "\n",
    "plt.xlabel('Month')\n",
    "plt.ylabel('Fare')\n",
    "plt.xticks(np.arange(12), range(1, 13))\n",
    "plt.legend()"
   ],
   "metadata": {
    "collapsed": false,
    "pycharm": {
     "name": "#%%\n"
    }
   }
  },
  {
   "cell_type": "markdown",
   "source": [
    "- 两种酒店客房价格趋势主要差异在于7-8月，此时期城市酒店价格小幅下跌，度假酒店价格却急速上涨，一度超过城市酒店。\n",
    "\n",
    "- 结合预定量和取消量分析，7-8月度假酒店客流减少，取消率大幅上升，经营者应考虑调整价格策略以增加营收。\n",
    "\n",
    "- 对于用户而言，应考虑避免8月预定度假酒店，此时酒店价格处于高位，而9月价格便会下跌近一半，气候/环境差异不大，是入住的好时期。"
   ],
   "metadata": {
    "collapsed": false,
    "pycharm": {
     "name": "#%% md\n"
    }
   }
  },
  {
   "cell_type": "markdown",
   "source": [
    "### ③ 入住时长"
   ],
   "metadata": {
    "collapsed": false,
    "pycharm": {
     "name": "#%% md\n"
    }
   }
  },
  {
   "cell_type": "code",
   "execution_count": 26,
   "outputs": [
    {
     "data": {
      "text/plain": "0.3797463414634146"
     },
     "execution_count": 26,
     "metadata": {},
     "output_type": "execute_result"
    }
   ],
   "source": [
    "# 周末和工作日取消率\n",
    "# 工作日\n",
    "data[data['stays_in_weekend_nights'] == 0]['is_canceled'].mean()"
   ],
   "metadata": {
    "collapsed": false,
    "pycharm": {
     "name": "#%%\n"
    }
   }
  },
  {
   "cell_type": "code",
   "execution_count": 27,
   "outputs": [
    {
     "data": {
      "text/plain": "0.36713956770407785"
     },
     "execution_count": 27,
     "metadata": {},
     "output_type": "execute_result"
    }
   ],
   "source": [
    "# 周末\n",
    "data[data['stays_in_weekend_nights'] != 0]['is_canceled'].mean()\n"
   ],
   "metadata": {
    "collapsed": false,
    "pycharm": {
     "name": "#%%\n"
    }
   }
  },
  {
   "cell_type": "markdown",
   "source": [
    "周末和工作日的订单取消率没有明显差异，进一步研究入住时长的影响。"
   ],
   "metadata": {
    "collapsed": false,
    "pycharm": {
     "name": "#%% md\n"
    }
   }
  },
  {
   "cell_type": "code",
   "execution_count": 28,
   "outputs": [
    {
     "data": {
      "text/plain": "<Figure size 720x432 with 2 Axes>",
      "image/png": "[encoded data removed]"
     },
     "metadata": {
      "needs_background": "light"
     },
     "output_type": "display_data"
    }
   ],
   "source": [
    "# 预定入住时长对取消预定的影响\n",
    "data['stay_nights'] = data['stays_in_weekend_nights'] + data['stays_in_week_nights']\n",
    "# 分布过散，进行数据分桶\n",
    "bin = [0, 1, 2, 5, 10, 15, np.inf]\n",
    "data['stay_nights_bin'] = pd.cut(\n",
    "    data['stay_nights'],\n",
    "    bin,\n",
    "    labels=['1', '2', '3-5', '6-10', '11-15', '>16']\n",
    ")\n",
    "plt.figure(figsize=(10, 6))\n",
    "\n",
    "\n",
    "# 预定度假酒店情况下，预定晚数与是否取消之间的关系图\n",
    "plt.subplot(121)\n",
    "sns.countplot(\n",
    "    x='stay_nights_bin',\n",
    "    hue='is_canceled',\n",
    "    data=data[data['hotel'] == 'Resort Hotel']\n",
    ")\n",
    "plt.xlabel('Stay Nights')\n",
    "plt.title('Resort Hotel')\n",
    "\n",
    "\n",
    "# 预定酒店酒店情况下，预定晚数与是否取消之间的关系图\n",
    "plt.subplot(122)\n",
    "sns.countplot(x='stay_nights_bin', hue='is_canceled',\n",
    "              data=data[data['hotel'] == 'City Hotel'])\n",
    "plt.xlabel('Stay Nights')\n",
    "plt.title('City Hotel')\n",
    "plt.tight_layout()\n",
    "plt.show()"
   ],
   "metadata": {
    "collapsed": false,
    "pycharm": {
     "name": "#%%\n"
    }
   }
  },
  {
   "cell_type": "markdown",
   "source": [
    "1）度假酒店客户入住时长集中在1-10晚，其中入住1晚的客户取消概率最低；\n",
    "\n",
    "2）城市酒店客户入住时长多在5晚以内，其中入住2晚的客户取消概率最高；\n",
    "\n",
    "3）整体而言，度假酒店客户平均入住天数明显高于城市酒店，可以考虑推出长租优惠方案吸引顾客。"
   ],
   "metadata": {
    "collapsed": false,
    "pycharm": {
     "name": "#%% md\n"
    }
   }
  },
  {
   "cell_type": "markdown",
   "source": [
    "### ⑤ 预定渠道"
   ],
   "metadata": {
    "collapsed": false,
    "pycharm": {
     "name": "#%% md\n"
    }
   }
  },
  {
   "cell_type": "code",
   "execution_count": 29,
   "outputs": [
    {
     "data": {
      "text/plain": "Text(0, 0.5, 'Rate')"
     },
     "execution_count": 29,
     "metadata": {},
     "output_type": "execute_result"
    },
    {
     "data": {
      "text/plain": "<Figure size 432x288 with 2 Axes>",
      "image/png": "[encoded data removed]"
     },
     "metadata": {
      "needs_background": "light"
     },
     "output_type": "display_data"
    }
   ],
   "source": [
    "# 预定渠道对取消率的影响\n",
    "fig, ax1 = plt.subplots()\n",
    "ax2 = ax1.twinx()\n",
    "# 绘制订单数量\n",
    "sns.countplot(\n",
    "    x=data['distribution_channel'],\n",
    "    # order x轴展示顺序\n",
    "    order=data.groupby('distribution_channel')['is_canceled'].mean().index,\n",
    "    ax=ax1\n",
    ")\n",
    "ax1.set_xlabel('Distribution Channel')\n",
    "\n",
    "\n",
    "# 绘制取消率\n",
    "ax2.plot(data.groupby('distribution_channel')['is_canceled'].mean(), 'ro-')\n",
    "ax2.set_ylabel('Rate')"
   ],
   "metadata": {
    "collapsed": false,
    "pycharm": {
     "name": "#%%\n"
    }
   }
  },
  {
   "cell_type": "markdown",
   "source": [
    "1）预定主要来自于旅行社(TA/TO)，个人直接预定(Direct)和团体预定(Group)；\n",
    "\n",
    "2）旅行社取消预定的概率远大于其他渠道，可能是由于旅行社出于盈利考虑会取消利润较低的订单。"
   ],
   "metadata": {
    "collapsed": false,
    "pycharm": {
     "name": "#%% md\n"
    }
   }
  },
  {
   "cell_type": "markdown",
   "source": [
    "# 5. 构建预测模型"
   ],
   "metadata": {
    "collapsed": false,
    "pycharm": {
     "name": "#%% md\n"
    }
   }
  },
  {
   "cell_type": "markdown",
   "source": [
    "首先进行特征的筛选，模型目标是对订单是否取消进行预测，挑选特征变量应满足：\n",
    "\n",
    "1）特征必须为客户预定时就能获得的数据，因此排除booking_changes（预定更改），reservation_status（结账状态），assigned_room_type （最终分配房型）等特征。\n",
    "\n",
    "2）考虑一定的信息脱敏和通用性，排除country（国籍），arrival_date_year（入住年份）等特征。"
   ],
   "metadata": {
    "collapsed": false,
    "pycharm": {
     "name": "#%% md\n"
    }
   }
  },
  {
   "cell_type": "code",
   "execution_count": 30,
   "outputs": [],
   "source": [
    "num = [\n",
    "    'lead_time', 'arrival_date_week_number', 'arrival_date_day_of_month',\n",
    "    'stays_in_weekend_nights', 'stays_in_week_nights', 'adults', 'children',\n",
    "    'babies', 'is_repeated_guest', 'previous_cancellations',\n",
    "    'previous_bookings_not_canceled', 'agent', 'required_car_parking_spaces',\n",
    "    'total_of_special_requests', 'adr', 'adr_per_person'\n",
    "]\n",
    "\n",
    "cat = [\n",
    "    'hotel', 'arrival_date_month', 'meal', 'market_segment',\n",
    "    'distribution_channel', 'reserved_room_type', 'deposit_type',\n",
    "    'customer_type'\n",
    "]\n",
    "\n",
    "target = ['is_canceled']\n",
    "\n",
    "ref = num + cat + target\n",
    "train = data[ref]"
   ],
   "metadata": {
    "collapsed": false,
    "pycharm": {
     "name": "#%%\n"
    }
   }
  },
  {
   "cell_type": "code",
   "execution_count": 31,
   "outputs": [],
   "source": [
    "# 处理类别变量\n",
    "# LabelEncoder().fit_transform : 将类别变量转换为对应的数字\n",
    "\n",
    "train[cat] = train[cat].apply(LabelEncoder().fit_transform)"
   ],
   "metadata": {
    "collapsed": false,
    "pycharm": {
     "name": "#%%\n"
    }
   }
  },
  {
   "cell_type": "code",
   "execution_count": 32,
   "outputs": [
    {
     "name": "stdout",
     "output_type": "stream",
     "text": [
      "(118565, 25)\n",
      "--------------------------------------------------\n",
      "<class 'pandas.core.frame.DataFrame'>\n",
      "Int64Index: 118565 entries, 2 to 119389\n",
      "Data columns (total 25 columns):\n",
      " #   Column                          Non-Null Count   Dtype  \n",
      "---  ------                          --------------   -----  \n",
      " 0   lead_time                       118565 non-null  int64  \n",
      " 1   arrival_date_week_number        118565 non-null  int64  \n",
      " 2   arrival_date_day_of_month       118565 non-null  int64  \n",
      " 3   stays_in_weekend_nights         118565 non-null  int64  \n",
      " 4   stays_in_week_nights            118565 non-null  int64  \n",
      " 5   adults                          118565 non-null  int64  \n",
      " 6   children                        118565 non-null  float64\n",
      " 7   babies                          118565 non-null  int64  \n",
      " 8   is_repeated_guest               118565 non-null  int64  \n",
      " 9   previous_cancellations          118565 non-null  int64  \n",
      " 10  previous_bookings_not_canceled  118565 non-null  int64  \n",
      " 11  agent                           118565 non-null  float64\n",
      " 12  required_car_parking_spaces     118565 non-null  int64  \n",
      " 13  total_of_special_requests       118565 non-null  int64  \n",
      " 14  adr                             118565 non-null  float64\n",
      " 15  adr_per_person                  118565 non-null  float64\n",
      " 16  hotel                           118565 non-null  int32  \n",
      " 17  arrival_date_month              118565 non-null  int32  \n",
      " 18  meal                            118565 non-null  int32  \n",
      " 19  market_segment                  118565 non-null  int32  \n",
      " 20  distribution_channel            118565 non-null  int32  \n",
      " 21  reserved_room_type              118565 non-null  int32  \n",
      " 22  deposit_type                    118565 non-null  int32  \n",
      " 23  customer_type                   118565 non-null  int32  \n",
      " 24  is_canceled                     118565 non-null  int64  \n",
      "dtypes: float64(4), int32(8), int64(13)\n",
      "memory usage: 19.9 MB\n",
      "None\n"
     ]
    }
   ],
   "source": [
    "print(train.shape)\n",
    "print('-'*25*2)\n",
    "# 分离特征变量和目标变量\n",
    "print(train.info())\n",
    "\n",
    "\n",
    "# 思考：LabelEncoder().fit_transform 转换后的特征，涉及数字大小，使用 One-Hot 编码转变可能更合适。"
   ],
   "metadata": {
    "collapsed": false,
    "pycharm": {
     "name": "#%%\n"
    }
   }
  },
  {
   "cell_type": "markdown",
   "source": [
    "完成数据列处理后，先查看一下各数据参数与取消预订之间的相关性。"
   ],
   "metadata": {
    "collapsed": false,
    "pycharm": {
     "name": "#%% md\n"
    }
   }
  },
  {
   "cell_type": "code",
   "execution_count": 33,
   "outputs": [
    {
     "data": {
      "text/plain": "<AxesSubplot:>"
     },
     "execution_count": 33,
     "metadata": {},
     "output_type": "execute_result"
    },
    {
     "data": {
      "text/plain": "<Figure size 864x720 with 2 Axes>",
      "image/png": "[encoded data removed]"
     },
     "metadata": {
      "needs_background": "light"
     },
     "output_type": "display_data"
    }
   ],
   "source": [
    "# 查看各列与取消预定的相关系数\n",
    "plt.figure(figsize=(12, 10))\n",
    "sns.heatmap(train.corr().abs(), cmap=sns.cm.rocket_r)"
   ],
   "metadata": {
    "collapsed": false,
    "pycharm": {
     "name": "#%%\n"
    }
   }
  },
  {
   "cell_type": "markdown",
   "source": [
    "- 与取消预订相关性较高的特征有：**提前预定时长，车位需求数，特殊需求数，押金类型，酒店类型**等。"
   ],
   "metadata": {
    "collapsed": false,
    "pycharm": {
     "name": "#%% md\n"
    }
   }
  },
  {
   "cell_type": "markdown",
   "source": [
    "接下来，进行模型训练，引入多个分类模型，均采用默认参数，简单比较模型之间的准确率。"
   ],
   "metadata": {
    "collapsed": false,
    "pycharm": {
     "name": "#%% md\n"
    }
   }
  },
  {
   "cell_type": "code",
   "execution_count": 34,
   "outputs": [],
   "source": [
    "# 分离特征变量和目标变量\n",
    "X = train.drop(['is_canceled'], axis=1)\n",
    "y = train['is_canceled']"
   ],
   "metadata": {
    "collapsed": false,
    "pycharm": {
     "name": "#%%\n"
    }
   }
  },
  {
   "cell_type": "code",
   "execution_count": 35,
   "outputs": [
    {
     "data": {
      "text/plain": "           lead_time  arrival_date_week_number  arrival_date_day_of_month  \\\ncount  118565.000000             118565.000000              118565.000000   \nmean      104.505832                 27.157028                  15.799595   \nstd       106.915519                 13.589350                   8.782227   \nmin         0.000000                  1.000000                   1.000000   \n25%        18.000000                 16.000000                   8.000000   \n50%        70.000000                 28.000000                  16.000000   \n75%       161.000000                 38.000000                  23.000000   \nmax       709.000000                 53.000000                  31.000000   \n\n       stays_in_weekend_nights  stays_in_week_nights         adults  \\\ncount            118565.000000         118565.000000  118565.000000   \nmean                  0.932096              2.512790       1.860009   \nstd                   0.995462              1.893258       0.575441   \nmin                   0.000000              0.000000       0.000000   \n25%                   0.000000              1.000000       2.000000   \n50%                   1.000000              2.000000       2.000000   \n75%                   2.000000              3.000000       2.000000   \nmax                  19.000000             50.000000      55.000000   \n\n            children         babies  is_repeated_guest  \\\ncount  118565.000000  118565.000000      118565.000000   \nmean        0.104196       0.007962           0.029511   \nstd         0.399119       0.097560           0.169235   \nmin         0.000000       0.000000           0.000000   \n25%         0.000000       0.000000           0.000000   \n50%         0.000000       0.000000           0.000000   \n75%         0.000000       0.000000           0.000000   \nmax        10.000000      10.000000           1.000000   \n\n       previous_cancellations  ...            adr  adr_per_person  \\\ncount           118565.000000  ...  118565.000000   118565.000000   \nmean                 0.087631  ...     102.523809       55.425894   \nstd                  0.847172  ...      50.005542       28.864821   \nmin                  0.000000  ...      -6.380000       -3.190000   \n25%                  0.000000  ...      70.000000       37.500000   \n50%                  0.000000  ...      95.000000       49.500000   \n75%                  0.000000  ...     126.000000       66.250000   \nmax                 26.000000  ...    5400.000000     2700.000000   \n\n               hotel  arrival_date_month           meal  market_segment  \\\ncount  118565.000000       118565.000000  118565.000000   118565.000000   \nmean        0.334551            5.489672       0.544461        4.930570   \nstd         0.471835            3.536675       1.039651        1.263951   \nmin         0.000000            0.000000       0.000000        0.000000   \n25%         0.000000            2.000000       0.000000        4.000000   \n50%         0.000000            6.000000       0.000000        5.000000   \n75%         1.000000            8.000000       0.000000        6.000000   \nmax         1.000000           11.000000       3.000000        7.000000   \n\n       distribution_channel  reserved_room_type   deposit_type  customer_type  \ncount         118565.000000       118565.000000  118565.000000  118565.000000  \nmean               2.588082            0.988808       0.125762       2.137680  \nstd                0.905142            1.695226       0.335678       0.577563  \nmin                0.000000            0.000000       0.000000       0.000000  \n25%                3.000000            0.000000       0.000000       2.000000  \n50%                3.000000            0.000000       0.000000       2.000000  \n75%                3.000000            3.000000       0.000000       2.000000  \nmax                4.000000            8.000000       2.000000       3.000000  \n\n[8 rows x 24 columns]",
      "text/html": "<div>\n<style scoped>\n    .dataframe tbody tr th:only-of-type {\n        vertical-align: middle;\n    }\n\n    .dataframe tbody tr th {\n        vertical-align: top;\n    }\n\n    .dataframe thead th {\n        text-align: right;\n    }\n</style>\n<table border=\"1\" class=\"dataframe\">\n  <thead>\n    <tr style=\"text-align: right;\">\n      <th></th>\n      <th>lead_time</th>\n      <th>arrival_date_week_number</th>\n      <th>arrival_date_day_of_month</th>\n      <th>stays_in_weekend_nights</th>\n      <th>stays_in_week_nights</th>\n      <th>adults</th>\n      <th>children</th>\n      <th>babies</th>\n      <th>is_repeated_guest</th>\n      <th>previous_cancellations</th>\n      <th>...</th>\n      <th>adr</th>\n      <th>adr_per_person</th>\n      <th>hotel</th>\n      <th>arrival_date_month</th>\n      <th>meal</th>\n      <th>market_segment</th>\n      <th>distribution_channel</th>\n      <th>reserved_room_type</th>\n      <th>deposit_type</th>\n      <th>customer_type</th>\n    </tr>\n  </thead>\n  <tbody>\n    <tr>\n      <th>count</th>\n      <td>118565.000000</td>\n      <td>118565.000000</td>\n      <td>118565.000000</td>\n      <td>118565.000000</td>\n      <td>118565.000000</td>\n      <td>118565.000000</td>\n      <td>118565.000000</td>\n      <td>118565.000000</td>\n      <td>118565.000000</td>\n      <td>118565.000000</td>\n      <td>...</td>\n      <td>118565.000000</td>\n      <td>118565.000000</td>\n      <td>118565.000000</td>\n      <td>118565.000000</td>\n      <td>118565.000000</td>\n      <td>118565.000000</td>\n      <td>118565.000000</td>\n      <td>118565.000000</td>\n      <td>118565.000000</td>\n      <td>118565.000000</td>\n    </tr>\n    <tr>\n      <th>mean</th>\n      <td>104.505832</td>\n      <td>27.157028</td>\n      <td>15.799595</td>\n      <td>0.932096</td>\n      <td>2.512790</td>\n      <td>1.860009</td>\n      <td>0.104196</td>\n      <td>0.007962</td>\n      <td>0.029511</td>\n      <td>0.087631</td>\n      <td>...</td>\n      <td>102.523809</td>\n      <td>55.425894</td>\n      <td>0.334551</td>\n      <td>5.489672</td>\n      <td>0.544461</td>\n      <td>4.930570</td>\n      <td>2.588082</td>\n      <td>0.988808</td>\n      <td>0.125762</td>\n      <td>2.137680</td>\n    </tr>\n    <tr>\n      <th>std</th>\n      <td>106.915519</td>\n      <td>13.589350</td>\n      <td>8.782227</td>\n      <td>0.995462</td>\n      <td>1.893258</td>\n      <td>0.575441</td>\n      <td>0.399119</td>\n      <td>0.097560</td>\n      <td>0.169235</td>\n      <td>0.847172</td>\n      <td>...</td>\n      <td>50.005542</td>\n      <td>28.864821</td>\n      <td>0.471835</td>\n      <td>3.536675</td>\n      <td>1.039651</td>\n      <td>1.263951</td>\n      <td>0.905142</td>\n      <td>1.695226</td>\n      <td>0.335678</td>\n      <td>0.577563</td>\n    </tr>\n    <tr>\n      <th>min</th>\n      <td>0.000000</td>\n      <td>1.000000</td>\n      <td>1.000000</td>\n      <td>0.000000</td>\n      <td>0.000000</td>\n      <td>0.000000</td>\n      <td>0.000000</td>\n      <td>0.000000</td>\n      <td>0.000000</td>\n      <td>0.000000</td>\n      <td>...</td>\n      <td>-6.380000</td>\n      <td>-3.190000</td>\n      <td>0.000000</td>\n      <td>0.000000</td>\n      <td>0.000000</td>\n      <td>0.000000</td>\n      <td>0.000000</td>\n      <td>0.000000</td>\n      <td>0.000000</td>\n      <td>0.000000</td>\n    </tr>\n    <tr>\n      <th>25%</th>\n      <td>18.000000</td>\n      <td>16.000000</td>\n      <td>8.000000</td>\n      <td>0.000000</td>\n      <td>1.000000</td>\n      <td>2.000000</td>\n      <td>0.000000</td>\n      <td>0.000000</td>\n      <td>0.000000</td>\n      <td>0.000000</td>\n      <td>...</td>\n      <td>70.000000</td>\n      <td>37.500000</td>\n      <td>0.000000</td>\n      <td>2.000000</td>\n      <td>0.000000</td>\n      <td>4.000000</td>\n      <td>3.000000</td>\n      <td>0.000000</td>\n      <td>0.000000</td>\n      <td>2.000000</td>\n    </tr>\n    <tr>\n      <th>50%</th>\n      <td>70.000000</td>\n      <td>28.000000</td>\n      <td>16.000000</td>\n      <td>1.000000</td>\n      <td>2.000000</td>\n      <td>2.000000</td>\n      <td>0.000000</td>\n      <td>0.000000</td>\n      <td>0.000000</td>\n      <td>0.000000</td>\n      <td>...</td>\n      <td>95.000000</td>\n      <td>49.500000</td>\n      <td>0.000000</td>\n      <td>6.000000</td>\n      <td>0.000000</td>\n      <td>5.000000</td>\n      <td>3.000000</td>\n      <td>0.000000</td>\n      <td>0.000000</td>\n      <td>2.000000</td>\n    </tr>\n    <tr>\n      <th>75%</th>\n      <td>161.000000</td>\n      <td>38.000000</td>\n      <td>23.000000</td>\n      <td>2.000000</td>\n      <td>3.000000</td>\n      <td>2.000000</td>\n      <td>0.000000</td>\n      <td>0.000000</td>\n      <td>0.000000</td>\n      <td>0.000000</td>\n      <td>...</td>\n      <td>126.000000</td>\n      <td>66.250000</td>\n      <td>1.000000</td>\n      <td>8.000000</td>\n      <td>0.000000</td>\n      <td>6.000000</td>\n      <td>3.000000</td>\n      <td>3.000000</td>\n      <td>0.000000</td>\n      <td>2.000000</td>\n    </tr>\n    <tr>\n      <th>max</th>\n      <td>709.000000</td>\n      <td>53.000000</td>\n      <td>31.000000</td>\n      <td>19.000000</td>\n      <td>50.000000</td>\n      <td>55.000000</td>\n      <td>10.000000</td>\n      <td>10.000000</td>\n      <td>1.000000</td>\n      <td>26.000000</td>\n      <td>...</td>\n      <td>5400.000000</td>\n      <td>2700.000000</td>\n      <td>1.000000</td>\n      <td>11.000000</td>\n      <td>3.000000</td>\n      <td>7.000000</td>\n      <td>4.000000</td>\n      <td>8.000000</td>\n      <td>2.000000</td>\n      <td>3.000000</td>\n    </tr>\n  </tbody>\n</table>\n<p>8 rows × 24 columns</p>\n</div>"
     },
     "execution_count": 35,
     "metadata": {},
     "output_type": "execute_result"
    }
   ],
   "source": [
    "X.describe()"
   ],
   "metadata": {
    "collapsed": false,
    "pycharm": {
     "name": "#%%\n"
    }
   }
  },
  {
   "cell_type": "code",
   "execution_count": 36,
   "outputs": [],
   "source": [
    "# 特征缩放\n",
    "std_sca = StandardScaler()\n",
    "X = std_sca.fit_transform(X)"
   ],
   "metadata": {
    "collapsed": false,
    "pycharm": {
     "name": "#%%\n"
    }
   }
  },
  {
   "cell_type": "code",
   "execution_count": 37,
   "outputs": [],
   "source": [
    "# 引入模型\n",
    "MLA = [\n",
    "    # 线性回归\n",
    "    LogisticRegression(n_jobs=-1, random_state=42),\n",
    "    # 梯度下降分类方法\n",
    "    SGDClassifier(n_jobs=-1, random_state=42),\n",
    "    RidgeClassifier(random_state=42),\n",
    "    # 感知机\n",
    "    Perceptron(n_jobs=-1, random_state=42),\n",
    "    # 线性SVM\n",
    "    LinearSVC(random_state=42),\n",
    "    # 决策树\n",
    "    DecisionTreeClassifier(random_state=42),\n",
    "    # 随机森林\n",
    "    RandomForestClassifier(n_jobs=-1, random_state=42),\n",
    "    # K近邻\n",
    "    KNeighborsClassifier(n_jobs=-1),\n",
    "    # 高斯NB\n",
    "    GaussianNB()\n",
    "]\n",
    "\n",
    "\n",
    "MLA_columns = [\n",
    "    'MLA Name', 'Train Accuracy Mean', 'Test Accuracy Mean', 'Test F1 Score', 'Time'\n",
    "]"
   ],
   "metadata": {
    "collapsed": false,
    "pycharm": {
     "name": "#%%\n"
    }
   }
  },
  {
   "cell_type": "code",
   "execution_count": 38,
   "outputs": [],
   "source": [
    "MLA_compare = pd.DataFrame(\n",
    "    # len(MLA) 行数， len(MLA_columns) 列数。用 0 去填充。\n",
    "    np.zeros([len(MLA), len(MLA_columns)]),\n",
    "    columns=MLA_columns\n",
    ")\n",
    "\n",
    "row_index = 0\n",
    "for alg in MLA:\n",
    "    MLA_compare.iloc[row_index, 0] = alg.__class__.__name__\n",
    "    cv_results = cross_validate(alg, X, y, scoring=('accuracy', 'f1'), cv=3, return_train_score=True)\n",
    "    MLA_compare.iloc[row_index, 1] = round(cv_results['train_accuracy'].mean() * 100, 3)\n",
    "    MLA_compare.iloc[row_index, 2] = round(cv_results['test_accuracy'].mean() * 100, 3)\n",
    "    MLA_compare.iloc[row_index, 3] = round(cv_results['test_f1'].mean() * 100, 3)\n",
    "    MLA_compare.iloc[row_index, 4] = cv_results['fit_time'].mean()\n",
    "    row_index += 1"
   ],
   "metadata": {
    "collapsed": false,
    "pycharm": {
     "name": "#%%\n"
    }
   }
  },
  {
   "cell_type": "code",
   "execution_count": 39,
   "outputs": [
    {
     "data": {
      "text/plain": "                 MLA Name  Train Accuracy Mean  Test Accuracy Mean  \\\n0      LogisticRegression               80.132              72.960   \n1           SGDClassifier               77.898              74.692   \n2         RidgeClassifier               77.748              74.260   \n3              Perceptron               72.881              67.486   \n4               LinearSVC               79.583              73.028   \n5  DecisionTreeClassifier               99.257              61.807   \n6  RandomForestClassifier               99.256              67.209   \n7    KNeighborsClassifier               88.422              64.123   \n8              GaussianNB               47.134              51.702   \n\n   Test F1 Score       Time  \n0         48.995   3.988116  \n1         49.119   0.436944  \n2         51.739   0.076198  \n3         48.864   0.175030  \n4         47.711  19.132199  \n5         46.564   0.511095  \n6         49.051   2.714027  \n7         46.867   0.015670  \n8         50.211   0.032016  ",
      "text/html": "<div>\n<style scoped>\n    .dataframe tbody tr th:only-of-type {\n        vertical-align: middle;\n    }\n\n    .dataframe tbody tr th {\n        vertical-align: top;\n    }\n\n    .dataframe thead th {\n        text-align: right;\n    }\n</style>\n<table border=\"1\" class=\"dataframe\">\n  <thead>\n    <tr style=\"text-align: right;\">\n      <th></th>\n      <th>MLA Name</th>\n      <th>Train Accuracy Mean</th>\n      <th>Test Accuracy Mean</th>\n      <th>Test F1 Score</th>\n      <th>Time</th>\n    </tr>\n  </thead>\n  <tbody>\n    <tr>\n      <th>0</th>\n      <td>LogisticRegression</td>\n      <td>80.132</td>\n      <td>72.960</td>\n      <td>48.995</td>\n      <td>3.988116</td>\n    </tr>\n    <tr>\n      <th>1</th>\n      <td>SGDClassifier</td>\n      <td>77.898</td>\n      <td>74.692</td>\n      <td>49.119</td>\n      <td>0.436944</td>\n    </tr>\n    <tr>\n      <th>2</th>\n      <td>RidgeClassifier</td>\n      <td>77.748</td>\n      <td>74.260</td>\n      <td>51.739</td>\n      <td>0.076198</td>\n    </tr>\n    <tr>\n      <th>3</th>\n      <td>Perceptron</td>\n      <td>72.881</td>\n      <td>67.486</td>\n      <td>48.864</td>\n      <td>0.175030</td>\n    </tr>\n    <tr>\n      <th>4</th>\n      <td>LinearSVC</td>\n      <td>79.583</td>\n      <td>73.028</td>\n      <td>47.711</td>\n      <td>19.132199</td>\n    </tr>\n    <tr>\n      <th>5</th>\n      <td>DecisionTreeClassifier</td>\n      <td>99.257</td>\n      <td>61.807</td>\n      <td>46.564</td>\n      <td>0.511095</td>\n    </tr>\n    <tr>\n      <th>6</th>\n      <td>RandomForestClassifier</td>\n      <td>99.256</td>\n      <td>67.209</td>\n      <td>49.051</td>\n      <td>2.714027</td>\n    </tr>\n    <tr>\n      <th>7</th>\n      <td>KNeighborsClassifier</td>\n      <td>88.422</td>\n      <td>64.123</td>\n      <td>46.867</td>\n      <td>0.015670</td>\n    </tr>\n    <tr>\n      <th>8</th>\n      <td>GaussianNB</td>\n      <td>47.134</td>\n      <td>51.702</td>\n      <td>50.211</td>\n      <td>0.032016</td>\n    </tr>\n  </tbody>\n</table>\n</div>"
     },
     "execution_count": 39,
     "metadata": {},
     "output_type": "execute_result"
    }
   ],
   "source": [
    "MLA_compare"
   ],
   "metadata": {
    "collapsed": false,
    "pycharm": {
     "name": "#%%\n"
    }
   }
  },
  {
   "cell_type": "markdown",
   "source": [
    "- 初步结果判断，决策树、随机森林、K近邻模型明显过拟合，高斯NB模型、线性SVM明显欠拟合。"
   ],
   "metadata": {
    "collapsed": false,
    "pycharm": {
     "name": "#%% md\n"
    }
   }
  },
  {
   "cell_type": "markdown",
   "source": [
    "获取最佳模型需要进行繁琐复杂的超参数调优工作，在此以岭回归和随机森林模型为例，使用网格搜索方法，进行模型微调。"
   ],
   "metadata": {
    "collapsed": false,
    "pycharm": {
     "name": "#%% md\n"
    }
   }
  },
  {
   "cell_type": "code",
   "execution_count": 40,
   "outputs": [
    {
     "name": "stdout",
     "output_type": "stream",
     "text": [
      "train accuracy: 77.748\n",
      "test accuracy: 74.261\n"
     ]
    }
   ],
   "source": [
    "# 模型微调\n",
    "# 岭回归调优\n",
    "# 网格搜索\n",
    "# 岭回归调优\n",
    "cv = 3\n",
    "\n",
    "rid_clf = RidgeClassifier(random_state=42)\n",
    "param_grid = {'alpha': [0.1, 0.3, 0.5, 1, 3, 5, 10]}\n",
    "grid_search = GridSearchCV(rid_clf, param_grid, cv=cv, n_jobs=-1,return_train_score=True)\n",
    "grid_search.fit(X, y)\n",
    "print('train accuracy:',round(grid_search.cv_results_['mean_train_score'].mean() * 100, 3))\n",
    "print('test accuracy:',round(grid_search.best_score_ * 100, 3))"
   ],
   "metadata": {
    "collapsed": false,
    "pycharm": {
     "name": "#%%\n"
    }
   }
  },
  {
   "cell_type": "code",
   "execution_count": 41,
   "outputs": [
    {
     "name": "stdout",
     "output_type": "stream",
     "text": [
      "train accuracy: 99.257\n",
      "test accuracy: 67.303\n"
     ]
    }
   ],
   "source": [
    "# 决策树调优\n",
    "for_clf = RandomForestClassifier(random_state=42, n_jobs=-1)\n",
    "param_grid = {\n",
    "    'n_estimators': [100, 110, 120, 130, 140],\n",
    "    'max_features': [5, 10, 15]\n",
    "}\n",
    "grid_search = GridSearchCV(for_clf, param_grid, cv=cv, n_jobs=-1, return_train_score=True)\n",
    "grid_search.fit(X, y)\n",
    "round(grid_search.best_score_ * 100, 3)\n",
    "print('train accuracy:', round(grid_search.cv_results_['mean_train_score'].mean() * 100, 3))\n",
    "print('test accuracy:', round(grid_search.best_score_ * 100, 3))"
   ],
   "metadata": {
    "collapsed": false,
    "pycharm": {
     "name": "#%%\n"
    }
   }
  },
  {
   "cell_type": "markdown",
   "source": [
    "- 网格参数使得模型的准确率得到较小的提升。\n",
    "- 在模型预测准确率相对较好的情况下，参数调优带来的效果一般比较有限，后续如果想继续提升模型拟合效果，可以考虑采用特征工程/模型融合等进阶方法。"
   ],
   "metadata": {
    "collapsed": false,
    "pycharm": {
     "name": "#%% md\n"
    }
   }
  },
  {
   "cell_type": "code",
   "execution_count": null,
   "outputs": [],
   "source": [],
   "metadata": {
    "collapsed": false,
    "pycharm": {
     "name": "#%%\n"
    }
   }
  }
 ],
 "metadata": {
  "kernelspec": {
   "display_name": "Python 3",
   "language": "python",
   "name": "python3"
  },
  "language_info": {
   "codemirror_mode": {
    "name": "ipython",
    "version": 2
   },
   "file_extension": ".py",
   "mimetype": "text/x-python",
   "name": "python",
   "nbconvert_exporter": "python",
   "pygments_lexer": "ipython2",
   "version": "2.7.6"
  }
 },
 "nbformat": 4,
 "nbformat_minor": 0
}